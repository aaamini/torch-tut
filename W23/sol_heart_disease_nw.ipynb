{
 "cells": [
  {
   "cell_type": "code",
   "execution_count": 32,
   "metadata": {},
   "outputs": [],
   "source": [
    "import pandas as pd\n",
    "import numpy as np\n",
    "import matplotlib.pyplot as plt\n",
    "\n",
    "import torch\n",
    "from helpers import *\n",
    "import torch.nn.functional as F\n",
    "import pandas as pd\n",
    "\n",
    "%reload_ext autoreload\n",
    "%autoreload 2"
   ]
  },
  {
   "attachments": {},
   "cell_type": "markdown",
   "metadata": {},
   "source": [
    "Solution to problem 3"
   ]
  },
  {
   "cell_type": "code",
   "execution_count": 33,
   "metadata": {},
   "outputs": [
    {
     "data": {
      "text/html": [
       "<div>\n",
       "<style scoped>\n",
       "    .dataframe tbody tr th:only-of-type {\n",
       "        vertical-align: middle;\n",
       "    }\n",
       "\n",
       "    .dataframe tbody tr th {\n",
       "        vertical-align: top;\n",
       "    }\n",
       "\n",
       "    .dataframe thead th {\n",
       "        text-align: right;\n",
       "    }\n",
       "</style>\n",
       "<table border=\"1\" class=\"dataframe\">\n",
       "  <thead>\n",
       "    <tr style=\"text-align: right;\">\n",
       "      <th></th>\n",
       "      <th>id</th>\n",
       "      <th>age</th>\n",
       "      <th>sex</th>\n",
       "      <th>dataset</th>\n",
       "      <th>cp</th>\n",
       "      <th>trestbps</th>\n",
       "      <th>chol</th>\n",
       "      <th>fbs</th>\n",
       "      <th>restecg</th>\n",
       "      <th>thalch</th>\n",
       "      <th>exang</th>\n",
       "      <th>oldpeak</th>\n",
       "      <th>slope</th>\n",
       "      <th>ca</th>\n",
       "      <th>thal</th>\n",
       "      <th>num</th>\n",
       "      <th>presence</th>\n",
       "    </tr>\n",
       "  </thead>\n",
       "  <tbody>\n",
       "    <tr>\n",
       "      <th>0</th>\n",
       "      <td>148</td>\n",
       "      <td>41</td>\n",
       "      <td>Male</td>\n",
       "      <td>Cleveland</td>\n",
       "      <td>non-anginal</td>\n",
       "      <td>112</td>\n",
       "      <td>250</td>\n",
       "      <td>False</td>\n",
       "      <td>normal</td>\n",
       "      <td>179</td>\n",
       "      <td>False</td>\n",
       "      <td>0.0</td>\n",
       "      <td>upsloping</td>\n",
       "      <td>0</td>\n",
       "      <td>normal</td>\n",
       "      <td>0</td>\n",
       "      <td>0</td>\n",
       "    </tr>\n",
       "    <tr>\n",
       "      <th>1</th>\n",
       "      <td>245</td>\n",
       "      <td>60</td>\n",
       "      <td>Female</td>\n",
       "      <td>Cleveland</td>\n",
       "      <td>non-anginal</td>\n",
       "      <td>120</td>\n",
       "      <td>178</td>\n",
       "      <td>True</td>\n",
       "      <td>normal</td>\n",
       "      <td>96</td>\n",
       "      <td>False</td>\n",
       "      <td>0.0</td>\n",
       "      <td>upsloping</td>\n",
       "      <td>0</td>\n",
       "      <td>normal</td>\n",
       "      <td>0</td>\n",
       "      <td>0</td>\n",
       "    </tr>\n",
       "    <tr>\n",
       "      <th>2</th>\n",
       "      <td>49</td>\n",
       "      <td>65</td>\n",
       "      <td>Female</td>\n",
       "      <td>Cleveland</td>\n",
       "      <td>non-anginal</td>\n",
       "      <td>140</td>\n",
       "      <td>417</td>\n",
       "      <td>True</td>\n",
       "      <td>lv hypertrophy</td>\n",
       "      <td>157</td>\n",
       "      <td>False</td>\n",
       "      <td>0.8</td>\n",
       "      <td>upsloping</td>\n",
       "      <td>1</td>\n",
       "      <td>normal</td>\n",
       "      <td>0</td>\n",
       "      <td>0</td>\n",
       "    </tr>\n",
       "    <tr>\n",
       "      <th>3</th>\n",
       "      <td>213</td>\n",
       "      <td>41</td>\n",
       "      <td>Male</td>\n",
       "      <td>Cleveland</td>\n",
       "      <td>non-anginal</td>\n",
       "      <td>130</td>\n",
       "      <td>214</td>\n",
       "      <td>False</td>\n",
       "      <td>lv hypertrophy</td>\n",
       "      <td>168</td>\n",
       "      <td>False</td>\n",
       "      <td>2.0</td>\n",
       "      <td>flat</td>\n",
       "      <td>0</td>\n",
       "      <td>normal</td>\n",
       "      <td>0</td>\n",
       "      <td>0</td>\n",
       "    </tr>\n",
       "    <tr>\n",
       "      <th>4</th>\n",
       "      <td>153</td>\n",
       "      <td>67</td>\n",
       "      <td>Female</td>\n",
       "      <td>Cleveland</td>\n",
       "      <td>non-anginal</td>\n",
       "      <td>115</td>\n",
       "      <td>564</td>\n",
       "      <td>False</td>\n",
       "      <td>lv hypertrophy</td>\n",
       "      <td>160</td>\n",
       "      <td>False</td>\n",
       "      <td>1.6</td>\n",
       "      <td>flat</td>\n",
       "      <td>0</td>\n",
       "      <td>reversable defect</td>\n",
       "      <td>0</td>\n",
       "      <td>0</td>\n",
       "    </tr>\n",
       "  </tbody>\n",
       "</table>\n",
       "</div>"
      ],
      "text/plain": [
       "    id  age     sex    dataset           cp  trestbps  chol    fbs  \\\n",
       "0  148   41    Male  Cleveland  non-anginal       112   250  False   \n",
       "1  245   60  Female  Cleveland  non-anginal       120   178   True   \n",
       "2   49   65  Female  Cleveland  non-anginal       140   417   True   \n",
       "3  213   41    Male  Cleveland  non-anginal       130   214  False   \n",
       "4  153   67  Female  Cleveland  non-anginal       115   564  False   \n",
       "\n",
       "          restecg  thalch  exang  oldpeak      slope  ca               thal  \\\n",
       "0          normal     179  False      0.0  upsloping   0             normal   \n",
       "1          normal      96  False      0.0  upsloping   0             normal   \n",
       "2  lv hypertrophy     157  False      0.8  upsloping   1             normal   \n",
       "3  lv hypertrophy     168  False      2.0       flat   0             normal   \n",
       "4  lv hypertrophy     160  False      1.6       flat   0  reversable defect   \n",
       "\n",
       "   num  presence  \n",
       "0    0         0  \n",
       "1    0         0  \n",
       "2    0         0  \n",
       "3    0         0  \n",
       "4    0         0  "
      ]
     },
     "execution_count": 33,
     "metadata": {},
     "output_type": "execute_result"
    }
   ],
   "source": [
    "df_train = pd.read_csv('../data/cleveland_heart_train.csv')\n",
    "df_test = pd.read_csv('../data/cleveland_heart_test.csv')\n",
    "df_train.head()"
   ]
  },
  {
   "cell_type": "code",
   "execution_count": 34,
   "metadata": {},
   "outputs": [],
   "source": [
    "# select columns chol, \n",
    "feature_cols = ['chol', 'age','trestbps','thalch','ca']\n",
    "y_col = 'presence'\n",
    "X_train = torch.tensor(df_train[feature_cols].to_numpy()).float()\n",
    "y_train =  torch.tensor(df_train[y_col].to_numpy()).float()\n",
    "X_test =  torch.tensor(df_test[feature_cols].to_numpy()).float()\n",
    "y_test =  torch.tensor(df_test[y_col].to_numpy()).float()\n"
   ]
  },
  {
   "cell_type": "code",
   "execution_count": 35,
   "metadata": {},
   "outputs": [
    {
     "name": "stdout",
     "output_type": "stream",
     "text": [
      "44.28518909226597 0.35135135\n"
     ]
    },
    {
     "data": {
      "image/png": "[encoded data removed]",
      "text/plain": [
       "<Figure size 640x480 with 1 Axes>"
      ]
     },
     "metadata": {},
     "output_type": "display_data"
    }
   ],
   "source": [
    "from models import NW\n",
    "\n",
    "h_vec = np.logspace(0, 2.2, 2500)\n",
    "test_err = []\n",
    "for h in h_vec:\n",
    "    model = NW(X_train, y_train, h=h)\n",
    "    prob = model(X_test)\n",
    "    test_err.append(((prob > 0.5).float() != y_test).float().mean())\n",
    "\n",
    "plt.plot(h_vec, test_err)\n",
    "#plt.xscale('log')\n",
    "# print the best h and the corresponding test error\n",
    "print(h_vec[np.argmin(test_err)], np.min(test_err))"
   ]
  },
  {
   "attachments": {},
   "cell_type": "markdown",
   "metadata": {},
   "source": [
    "Solutions to part (a) and (b) of problem 2"
   ]
  },
  {
   "cell_type": "code",
   "execution_count": 37,
   "metadata": {},
   "outputs": [
    {
     "name": "stdout",
     "output_type": "stream",
     "text": [
      "Train error: 0.457\n",
      "Test error: 0.473\n"
     ]
    }
   ],
   "source": [
    "# Find the majority rule classifier\n",
    "# majority rule classifier is the one that predicts the majority class\n",
    "majority_decision = (y_train.mean() > 0.5).float().item()\n",
    "\n",
    "# Calculate the training and test error for the best majority rule classifier\n",
    "train_err = ((y_train != majority_decision).float().mean()).item()\n",
    "test_err = ((y_test != majority_decision).float().mean()).item()\n",
    "\n",
    "# Print the two errors up to 3 digit precision\n",
    "print(f'Train error: {train_err:.3f}')\n",
    "print(f'Test error: {test_err:.3f}')"
   ]
  },
  {
   "cell_type": "code",
   "execution_count": 45,
   "metadata": {},
   "outputs": [
    {
     "name": "stdout",
     "output_type": "stream",
     "text": [
      "cp\n",
      "asymptomatic       0.701923\n",
      "atypical angina    0.214286\n",
      "non-anginal        0.233333\n",
      "typical angina     0.352941\n",
      "Name: presence, dtype: float64\n"
     ]
    },
    {
     "data": {
      "text/plain": [
       "cp\n",
       "asymptomatic       1\n",
       "atypical angina    0\n",
       "non-anginal        0\n",
       "typical angina     0\n",
       "Name: presence, dtype: int64"
      ]
     },
     "execution_count": 45,
     "metadata": {},
     "output_type": "execute_result"
    }
   ],
   "source": [
    "# Find the average of the presence column over values of cp column in df_train\n",
    "# and store the result in a variable called cp_avg\n",
    "cp_avg = df_train.groupby('cp')['presence'].mean()\n",
    "\n",
    "print(cp_avg)    \n",
    "\n",
    "# The plugin optimal rule is the following\n",
    "(cp_avg > 0.5)*1"
   ]
  },
  {
   "cell_type": "code",
   "execution_count": null,
   "metadata": {},
   "outputs": [],
   "source": []
  }
 ],
 "metadata": {
  "kernelspec": {
   "display_name": "torch",
   "language": "python",
   "name": "python3"
  },
  "language_info": {
   "codemirror_mode": {
    "name": "ipython",
    "version": 3
   },
   "file_extension": ".py",
   "mimetype": "text/x-python",
   "name": "python",
   "nbconvert_exporter": "python",
   "pygments_lexer": "ipython3",
   "version": "3.8.16"
  },
  "orig_nbformat": 4
 },
 "nbformat": 4,
 "nbformat_minor": 2
}
