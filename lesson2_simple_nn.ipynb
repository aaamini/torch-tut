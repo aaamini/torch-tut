{
 "cells": [
  {
   "cell_type": "markdown",
   "metadata": {},
   "source": [
    "# PyTorch Lesson 2: Simple models"
   ]
  },
  {
   "cell_type": "code",
   "execution_count": 1,
   "metadata": {},
   "outputs": [
    {
     "data": {
      "text/plain": [
       "'1.12.0+cu102'"
      ]
     },
     "execution_count": 1,
     "metadata": {},
     "output_type": "execute_result"
    }
   ],
   "source": [
    "import torch\n",
    "import math\n",
    "\n",
    "class bcols:\n",
    "    HEADER = '\\033[95m'\n",
    "    OKBLUE = '\\033[94m'\n",
    "    OKCYAN = '\\033[96m'\n",
    "    OKGREEN = '\\033[92m'\n",
    "    WARNING = '\\033[93m'\n",
    "    FAIL = '\\033[91m'\n",
    "    ENDC = '\\033[0m'\n",
    "    BOLD = '\\033[1m'\n",
    "    UNDERLINE = '\\033[4m'\n",
    "\n",
    "torch.__version__"
   ]
  },
  {
   "cell_type": "code",
   "execution_count": 2,
   "metadata": {},
   "outputs": [
    {
     "data": {
      "text/plain": [
       "tensor([[ 1.8616,  0.9035,  1.3395],\n",
       "        [ 1.2005,  1.0070,  0.2379],\n",
       "        [-0.4197,  0.5358, -0.3831],\n",
       "        [ 2.1767,  0.9645,  0.4847],\n",
       "        [-1.7431, -1.1125,  0.2744],\n",
       "        [ 1.4430, -0.7003,  1.0439],\n",
       "        [ 0.0991, -1.0988,  0.0574],\n",
       "        [ 0.8928, -0.0457, -1.3869],\n",
       "        [-0.5205,  0.7984, -0.5957],\n",
       "        [-0.6574,  0.6536,  0.9329]])"
      ]
     },
     "execution_count": 2,
     "metadata": {},
     "output_type": "execute_result"
    }
   ],
   "source": [
    "torch.manual_seed(55)\n",
    "x = torch.randn(10,3)\n",
    "x"
   ]
  },
  {
   "cell_type": "code",
   "execution_count": 3,
   "metadata": {},
   "outputs": [
    {
     "data": {
      "text/plain": [
       "torch.Size([10, 3])"
      ]
     },
     "execution_count": 3,
     "metadata": {},
     "output_type": "execute_result"
    }
   ],
   "source": [
    "x.size()\n",
    "# x.shape"
   ]
  },
  {
   "cell_type": "code",
   "execution_count": 4,
   "metadata": {},
   "outputs": [
    {
     "name": "stdout",
     "output_type": "stream",
     "text": [
      "n = 10, d = 3.\n"
     ]
    }
   ],
   "source": [
    "n = x.size(dim=0)\n",
    "d = x.size(dim=1)\n",
    "print(f\"n = {n}, d = {d}.\")"
   ]
  },
  {
   "cell_type": "markdown",
   "metadata": {},
   "source": [
    "# Linear model (or layer)"
   ]
  },
  {
   "cell_type": "code",
   "execution_count": 5,
   "metadata": {},
   "outputs": [
    {
     "data": {
      "text/plain": [
       "Linear(in_features=3, out_features=1, bias=True)"
      ]
     },
     "execution_count": 5,
     "metadata": {},
     "output_type": "execute_result"
    }
   ],
   "source": [
    "from torch import nn\n",
    "\n",
    "lin = nn.Linear(in_features=d, out_features=1)\n",
    "lin"
   ]
  },
  {
   "cell_type": "markdown",
   "metadata": {},
   "source": [
    "This implements the linear function:\n",
    "$$\n",
    "f_{w,b}(x) = x^T w + b\n",
    "$$\n",
    "where $x, w \\in \\mathbb R^d$ and $b$ is a scalar. Parameters $w$ and $b$ can be optimized."
   ]
  },
  {
   "cell_type": "code",
   "execution_count": 6,
   "metadata": {},
   "outputs": [
    {
     "data": {
      "text/plain": [
       "tensor([[ 1.7081],\n",
       "        [ 0.7950],\n",
       "        [-0.1547],\n",
       "        [ 1.3566],\n",
       "        [-0.0509],\n",
       "        [ 1.6605],\n",
       "        [ 0.6123],\n",
       "        [-0.0450],\n",
       "        [-0.3641],\n",
       "        [ 0.4531]], grad_fn=<AddmmBackward0>)"
      ]
     },
     "execution_count": 6,
     "metadata": {},
     "output_type": "execute_result"
    }
   ],
   "source": [
    "lin(x)"
   ]
  },
  {
   "cell_type": "code",
   "execution_count": 7,
   "metadata": {},
   "outputs": [
    {
     "data": {
      "text/plain": [
       "tensor([1.3566], grad_fn=<AddBackward0>)"
      ]
     },
     "execution_count": 7,
     "metadata": {},
     "output_type": "execute_result"
    }
   ],
   "source": [
    "lin(x[3,:])"
   ]
  },
  {
   "cell_type": "markdown",
   "metadata": {},
   "source": [
    "## Indirect way of finding out $w$ and $b$"
   ]
  },
  {
   "cell_type": "code",
   "execution_count": 8,
   "metadata": {},
   "outputs": [
    {
     "data": {
      "text/plain": [
       "tensor([[0., 0., 0.],\n",
       "        [1., 0., 0.],\n",
       "        [0., 1., 0.],\n",
       "        [0., 0., 1.]])"
      ]
     },
     "execution_count": 8,
     "metadata": {},
     "output_type": "execute_result"
    }
   ],
   "source": [
    "xtest = torch.cat([torch.zeros(1,d), torch.eye(d)], dim=0)\n",
    "xtest"
   ]
  },
  {
   "cell_type": "code",
   "execution_count": 9,
   "metadata": {},
   "outputs": [
    {
     "data": {
      "text/plain": [
       "tensor([[0.3359],\n",
       "        [0.7627],\n",
       "        [0.1518],\n",
       "        [0.8913]], grad_fn=<AddmmBackward0>)"
      ]
     },
     "execution_count": 9,
     "metadata": {},
     "output_type": "execute_result"
    }
   ],
   "source": [
    "w = lin(xtest)\n",
    "w"
   ]
  },
  {
   "cell_type": "code",
   "execution_count": 10,
   "metadata": {},
   "outputs": [
    {
     "data": {
      "text/plain": [
       "tensor([[ 0.3359],\n",
       "        [ 0.4268],\n",
       "        [-0.1841],\n",
       "        [ 0.5554]], grad_fn=<CopySlices>)"
      ]
     },
     "execution_count": 10,
     "metadata": {},
     "output_type": "execute_result"
    }
   ],
   "source": [
    "w[1:]  = w[1:] - w[0]\n",
    "w"
   ]
  },
  {
   "cell_type": "code",
   "execution_count": 11,
   "metadata": {},
   "outputs": [
    {
     "data": {
      "text/plain": [
       "tensor([[ 1.0000,  1.8616,  0.9035,  1.3395],\n",
       "        [ 1.0000,  1.2005,  1.0070,  0.2379],\n",
       "        [ 1.0000, -0.4197,  0.5358, -0.3831],\n",
       "        [ 1.0000,  2.1767,  0.9645,  0.4847],\n",
       "        [ 1.0000, -1.7431, -1.1125,  0.2744],\n",
       "        [ 1.0000,  1.4430, -0.7003,  1.0439],\n",
       "        [ 1.0000,  0.0991, -1.0988,  0.0574],\n",
       "        [ 1.0000,  0.8928, -0.0457, -1.3869],\n",
       "        [ 1.0000, -0.5205,  0.7984, -0.5957],\n",
       "        [ 1.0000, -0.6574,  0.6536,  0.9329]])"
      ]
     },
     "execution_count": 11,
     "metadata": {},
     "output_type": "execute_result"
    }
   ],
   "source": [
    "torch.cat([torch.ones(n,1), x], dim=1)"
   ]
  },
  {
   "cell_type": "code",
   "execution_count": 12,
   "metadata": {},
   "outputs": [
    {
     "data": {
      "text/plain": [
       "tensor([[ 1.0000,  1.8616,  0.9035,  1.3395],\n",
       "        [ 1.0000,  1.2005,  1.0070,  0.2379],\n",
       "        [ 1.0000, -0.4197,  0.5358, -0.3831],\n",
       "        [ 1.0000,  2.1767,  0.9645,  0.4847],\n",
       "        [ 1.0000, -1.7431, -1.1125,  0.2744],\n",
       "        [ 1.0000,  1.4430, -0.7003,  1.0439],\n",
       "        [ 1.0000,  0.0991, -1.0988,  0.0574],\n",
       "        [ 1.0000,  0.8928, -0.0457, -1.3869],\n",
       "        [ 1.0000, -0.5205,  0.7984, -0.5957],\n",
       "        [ 1.0000, -0.6574,  0.6536,  0.9329]])"
      ]
     },
     "execution_count": 12,
     "metadata": {},
     "output_type": "execute_result"
    }
   ],
   "source": [
    "nn.ConstantPad1d((1,0),1)(x)\n",
    "# nn.ConstantPad1d((1,-1),1.2)(x)"
   ]
  },
  {
   "cell_type": "code",
   "execution_count": 13,
   "metadata": {},
   "outputs": [
    {
     "data": {
      "text/plain": [
       "tensor([[ 1.7081],\n",
       "        [ 0.7950],\n",
       "        [-0.1547],\n",
       "        [ 1.3566],\n",
       "        [-0.0509],\n",
       "        [ 1.6605],\n",
       "        [ 0.6123],\n",
       "        [-0.0450],\n",
       "        [-0.3641],\n",
       "        [ 0.4531]], grad_fn=<MmBackward0>)"
      ]
     },
     "execution_count": 13,
     "metadata": {},
     "output_type": "execute_result"
    }
   ],
   "source": [
    "nn.ConstantPad1d((1,0),1)(x) @ w"
   ]
  },
  {
   "cell_type": "code",
   "execution_count": 14,
   "metadata": {},
   "outputs": [
    {
     "data": {
      "text/plain": [
       "tensor([[ 1.7081,  1.7081],\n",
       "        [ 0.7950,  0.7950],\n",
       "        [-0.1547, -0.1547],\n",
       "        [ 1.3566,  1.3566],\n",
       "        [-0.0509, -0.0509],\n",
       "        [ 1.6605,  1.6605],\n",
       "        [ 0.6123,  0.6123],\n",
       "        [-0.0450, -0.0450],\n",
       "        [-0.3641, -0.3641],\n",
       "        [ 0.4531,  0.4531]], grad_fn=<CatBackward0>)"
      ]
     },
     "execution_count": 14,
     "metadata": {},
     "output_type": "execute_result"
    }
   ],
   "source": [
    "torch.cat([nn.ConstantPad1d((1,0),1)(x) @ w, lin(x)], dim=1)"
   ]
  },
  {
   "cell_type": "markdown",
   "metadata": {},
   "source": [
    "## Direct way of finding out $w$ and $b$"
   ]
  },
  {
   "cell_type": "code",
   "execution_count": 15,
   "metadata": {},
   "outputs": [
    {
     "data": {
      "text/plain": [
       "(Parameter containing:\n",
       " tensor([[ 0.4268, -0.1841,  0.5554]], requires_grad=True),\n",
       " Parameter containing:\n",
       " tensor([0.3359], requires_grad=True),\n",
       " tensor([[ 0.3359],\n",
       "         [ 0.4268],\n",
       "         [-0.1841],\n",
       "         [ 0.5554]], grad_fn=<CopySlices>))"
      ]
     },
     "execution_count": 15,
     "metadata": {},
     "output_type": "execute_result"
    }
   ],
   "source": [
    "lin.weight, lin.bias, w"
   ]
  },
  {
   "cell_type": "code",
   "execution_count": 16,
   "metadata": {},
   "outputs": [
    {
     "data": {
      "text/plain": [
       "[Parameter containing:\n",
       " tensor([[ 0.4268, -0.1841,  0.5554]], requires_grad=True),\n",
       " Parameter containing:\n",
       " tensor([0.3359], requires_grad=True)]"
      ]
     },
     "execution_count": 16,
     "metadata": {},
     "output_type": "execute_result"
    }
   ],
   "source": [
    "list(lin.parameters())"
   ]
  },
  {
   "cell_type": "code",
   "execution_count": 17,
   "metadata": {},
   "outputs": [
    {
     "name": "stdout",
     "output_type": "stream",
     "text": [
      "- Parameter containing:\n",
      "tensor([[ 0.4268, -0.1841,  0.5554]], requires_grad=True)\n",
      "- Parameter containing:\n",
      "tensor([0.3359], requires_grad=True)\n"
     ]
    }
   ],
   "source": [
    "for param in lin.parameters():\n",
    "    print('-',param)"
   ]
  },
  {
   "cell_type": "markdown",
   "metadata": {},
   "source": [
    "## Fitting the linear model by graident descent \n",
    "Consider the model \n",
    "\\begin{align}\n",
    "y_i &= f^*(x_i), \\quad i=1,\\dots,n \\\\\n",
    "f^*(x) &= x^T w^*  + b^*\n",
    "\\end{align}"
   ]
  },
  {
   "cell_type": "code",
   "execution_count": 18,
   "metadata": {},
   "outputs": [
    {
     "data": {
      "text/plain": [
       "tensor([-1.0000,  1.0000,  3.1416,  0.1000])"
      ]
     },
     "execution_count": 18,
     "metadata": {},
     "output_type": "execute_result"
    }
   ],
   "source": [
    "ws = torch.tensor([-1, 1, math.pi, 0.1])\n",
    "ws"
   ]
  },
  {
   "cell_type": "code",
   "execution_count": 19,
   "metadata": {},
   "outputs": [
    {
     "data": {
      "text/plain": [
       "tensor([[-1.0000],\n",
       "        [ 1.0000],\n",
       "        [ 3.1416],\n",
       "        [ 0.1000]])"
      ]
     },
     "execution_count": 19,
     "metadata": {},
     "output_type": "execute_result"
    }
   ],
   "source": [
    "ws = ws[:,None]\n",
    "ws"
   ]
  },
  {
   "cell_type": "code",
   "execution_count": 20,
   "metadata": {},
   "outputs": [
    {
     "data": {
      "text/plain": [
       "tensor([[ 3.8341],\n",
       "        [ 3.3878],\n",
       "        [ 0.2253],\n",
       "        [ 4.2553],\n",
       "        [-6.2107],\n",
       "        [-1.6525],\n",
       "        [-4.3472],\n",
       "        [-0.3893],\n",
       "        [ 0.9282],\n",
       "        [ 0.4892]])"
      ]
     },
     "execution_count": 20,
     "metadata": {},
     "output_type": "execute_result"
    }
   ],
   "source": [
    "y = nn.ConstantPad1d((1,0),1)(x) @ ws\n",
    "y"
   ]
  },
  {
   "cell_type": "markdown",
   "metadata": {},
   "source": [
    "We would like to solve the following optimization \n",
    "$$\n",
    "\\min_{w, b} \\frac1n \\sum_{i=1}^n (y_i - f_{w,b}(x_i))^2\n",
    "$$"
   ]
  },
  {
   "cell_type": "code",
   "execution_count": 21,
   "metadata": {},
   "outputs": [
    {
     "name": "stdout",
     "output_type": "stream",
     "text": [
      "None\n",
      "tensor([[-3.9405, -4.5483, -0.7785]])\n"
     ]
    }
   ],
   "source": [
    "lin = nn.Linear(in_features=d, out_features=1)\n",
    "optim = torch.optim.SGD([lin.weight, lin.bias], lr=.1)\n",
    "\n",
    "loss = sum((y-lin(x))**2)/n\n",
    "\n",
    "print(lin.weight.grad)\n",
    "loss.backward()\n",
    "print(lin.weight.grad)"
   ]
  },
  {
   "cell_type": "code",
   "execution_count": 22,
   "metadata": {},
   "outputs": [
    {
     "name": "stdout",
     "output_type": "stream",
     "text": [
      "Parameter containing:\n",
      "tensor([[ 0.5634,  0.0722, -0.0549]], requires_grad=True)\n",
      "Parameter containing:\n",
      "tensor([[0.9574, 0.5270, 0.0230]], requires_grad=True)\n"
     ]
    }
   ],
   "source": [
    "print(lin.weight)\n",
    "optim.step()\n",
    "print(lin.weight)"
   ]
  },
  {
   "cell_type": "code",
   "execution_count": 23,
   "metadata": {},
   "outputs": [
    {
     "name": "stdout",
     "output_type": "stream",
     "text": [
      "tensor([[-3.9405, -4.5483, -0.7785]])\n",
      "tensor([[0., 0., 0.]])\n"
     ]
    }
   ],
   "source": [
    "print(lin.weight.grad)\n",
    "optim.zero_grad()\n",
    "print(lin.weight.grad)"
   ]
  },
  {
   "cell_type": "code",
   "execution_count": 24,
   "metadata": {},
   "outputs": [
    {
     "name": "stdout",
     "output_type": "stream",
     "text": [
      "- i = \u001b[94m0\u001b[0m, loss = \u001b[93m1.44e+01\u001b[0m,\n",
      "Parameter containing:\n",
      "tensor([[0.1741, 0.4467, 0.0595]], requires_grad=True)\n",
      "- i = \u001b[94m20\u001b[0m, loss = \u001b[93m4.89e-02\u001b[0m,\n",
      "Parameter containing:\n",
      "tensor([[1.0835, 2.8909, 0.0421]], requires_grad=True)\n",
      "- i = \u001b[94m40\u001b[0m, loss = \u001b[93m7.81e-04\u001b[0m,\n",
      "Parameter containing:\n",
      "tensor([[1.0141, 3.1111, 0.0861]], requires_grad=True)\n",
      "- i = \u001b[94m60\u001b[0m, loss = \u001b[93m1.49e-05\u001b[0m,\n",
      "Parameter containing:\n",
      "tensor([[1.0020, 3.1376, 0.0976]], requires_grad=True)\n",
      "- i = \u001b[94m80\u001b[0m, loss = \u001b[93m2.94e-07\u001b[0m,\n",
      "Parameter containing:\n",
      "tensor([[1.0003, 3.1411, 0.0996]], requires_grad=True)\n",
      "- i = \u001b[94m100\u001b[0m, loss = \u001b[93m5.86e-09\u001b[0m,\n",
      "Parameter containing:\n",
      "tensor([[1.0000, 3.1415, 0.0999]], requires_grad=True)\n"
     ]
    }
   ],
   "source": [
    "lin = nn.Linear(in_features=d, out_features=1)\n",
    "optim = torch.optim.SGD([lin.weight, lin.bias], lr=.1)\n",
    "\n",
    "for i in range(101):\n",
    "    optim.zero_grad()               # zeros out lin.weight.grad and lin.bias.grad\n",
    "    loss = sum((y - lin(x))**2)/n \n",
    "    loss.backward()                 # updates lin.weight.grad and lin.bias.grad\n",
    "    optim.step()                    # updates lin.weight and lin.bias\n",
    "    if i % 20 == 0: \n",
    "         print(f\"- i = {bcols.OKBLUE}{i}{bcols.ENDC}, loss = {bcols.WARNING}{loss.item():1.2e}{bcols.ENDC},\\n{lin.weight}\")"
   ]
  },
  {
   "cell_type": "code",
   "execution_count": 25,
   "metadata": {},
   "outputs": [
    {
     "data": {
      "text/plain": [
       "(Parameter containing:\n",
       " tensor([-1.0000], requires_grad=True),\n",
       " Parameter containing:\n",
       " tensor([[1.0000, 3.1415, 0.0999]], requires_grad=True),\n",
       " tensor([[-1.0000],\n",
       "         [ 1.0000],\n",
       "         [ 3.1416],\n",
       "         [ 0.1000]]))"
      ]
     },
     "execution_count": 25,
     "metadata": {},
     "output_type": "execute_result"
    }
   ],
   "source": [
    "lin.bias, lin.weight, ws"
   ]
  },
  {
   "cell_type": "markdown",
   "metadata": {},
   "source": [
    "# A single Neuron\n",
    "Consider the simplest neural network, a simple neorn:\n",
    "$$\n",
    "f_{w,b}(x) = \\sigma(x^T w + b)\n",
    "$$\n",
    "where $x, w \\in \\mathbb R^d$ and $b$ is a scalar. Parameters $w$ and $b$ can be optimized.\n",
    "\n",
    "$\\sigma(\\cdot)$ is a nonlinear function, mapping $\\mathbb R$ to $\\mathbb R$."
   ]
  },
  {
   "cell_type": "code",
   "execution_count": 26,
   "metadata": {},
   "outputs": [
    {
     "data": {
      "text/plain": [
       "ReLU()"
      ]
     },
     "execution_count": 26,
     "metadata": {},
     "output_type": "execute_result"
    }
   ],
   "source": [
    "sig = nn.ReLU() # Rectified Linear Unit\n",
    "sig"
   ]
  },
  {
   "cell_type": "markdown",
   "metadata": {},
   "source": [
    "$\\sigma(x) = \\max(0,x)$"
   ]
  },
  {
   "cell_type": "code",
   "execution_count": 27,
   "metadata": {},
   "outputs": [
    {
     "data": {
      "image/png": "[encoded data removed]",
      "text/plain": [
       "<Figure size 640x480 with 1 Axes>"
      ]
     },
     "metadata": {},
     "output_type": "display_data"
    }
   ],
   "source": [
    "import matplotlib.pyplot as plt\n",
    "\n",
    "z = torch.linspace(-1, 1, 100)\n",
    "plt.plot(z, sig(z));"
   ]
  },
  {
   "cell_type": "markdown",
   "metadata": {},
   "source": [
    "## Recreate the data from the actual model\n",
    "Let's recreate $y_i$ as the output of a neuron rather than just a linear model: \n",
    "$$y_i = \\sigma(x_i^T w^* + b^*), \\quad  i =1,\\dots,n$$"
   ]
  },
  {
   "cell_type": "code",
   "execution_count": 28,
   "metadata": {},
   "outputs": [
    {
     "data": {
      "text/plain": [
       "tensor([[3.8341],\n",
       "        [3.3878],\n",
       "        [0.2253],\n",
       "        [4.2553],\n",
       "        [0.0000],\n",
       "        [0.0000],\n",
       "        [0.0000],\n",
       "        [0.0000],\n",
       "        [0.9282],\n",
       "        [0.4892]])"
      ]
     },
     "execution_count": 28,
     "metadata": {},
     "output_type": "execute_result"
    }
   ],
   "source": [
    "y = sig(nn.ConstantPad1d((1,0),1)(x) @ ws)\n",
    "y"
   ]
  },
  {
   "cell_type": "markdown",
   "metadata": {},
   "source": [
    "## Training a neuron v1"
   ]
  },
  {
   "cell_type": "code",
   "execution_count": 29,
   "metadata": {},
   "outputs": [
    {
     "name": "stdout",
     "output_type": "stream",
     "text": [
      "- i = \u001b[94m0\u001b[0m, loss = \u001b[93m4.55e+00\u001b[0m,\n",
      "Parameter containing:\n",
      "tensor([[-0.3892, -0.0033,  0.5598]], requires_grad=True)\n",
      "- i = \u001b[94m1000\u001b[0m, loss = \u001b[93m5.10e-04\u001b[0m,\n",
      "Parameter containing:\n",
      "tensor([[1.0385, 2.8389, 0.0878]], requires_grad=True)\n",
      "- i = \u001b[94m2000\u001b[0m, loss = \u001b[93m1.25e-04\u001b[0m,\n",
      "Parameter containing:\n",
      "tensor([[1.0191, 2.9917, 0.0940]], requires_grad=True)\n",
      "- i = \u001b[94m3000\u001b[0m, loss = \u001b[93m3.06e-05\u001b[0m,\n",
      "Parameter containing:\n",
      "tensor([[1.0094, 3.0674, 0.0970]], requires_grad=True)\n",
      "- i = \u001b[94m4000\u001b[0m, loss = \u001b[93m7.51e-06\u001b[0m,\n",
      "Parameter containing:\n",
      "tensor([[1.0047, 3.1049, 0.0985]], requires_grad=True)\n",
      "- i = \u001b[94m5000\u001b[0m, loss = \u001b[93m1.84e-06\u001b[0m,\n",
      "Parameter containing:\n",
      "tensor([[1.0023, 3.1234, 0.0993]], requires_grad=True)\n"
     ]
    }
   ],
   "source": [
    "torch.manual_seed(11)\n",
    "#torch.manual_seed(115)\n",
    "lin = nn.Linear(in_features=d, out_features=1)\n",
    "sig = nn.ReLU()\n",
    "\n",
    "optim = torch.optim.SGD([lin.weight, lin.bias], lr=.1)\n",
    "\n",
    "for i in range(5001):\n",
    "    optim.zero_grad()               # zeros out lin.weight.grad and lin.bias.grad\n",
    "    loss = sum((y - sig(lin(x)))**2)/n \n",
    "    loss.backward()                 # updates lin.weight.grad and lin.bias.grad\n",
    "    optim.step()                    # updates lin.weight and lin.bias\n",
    "    if i % 1000 == 0: \n",
    "         print(f\"- i = {bcols.OKBLUE}{i}{bcols.ENDC}, loss = {bcols.WARNING}{loss.item():1.2e}{bcols.ENDC},\\n{lin.weight}\")"
   ]
  },
  {
   "cell_type": "markdown",
   "metadata": {},
   "source": [
    "## Training a neuron v2\n",
    "Using `nn.Seqeuntial` to form a function composition."
   ]
  },
  {
   "cell_type": "code",
   "execution_count": 30,
   "metadata": {},
   "outputs": [
    {
     "name": "stdout",
     "output_type": "stream",
     "text": [
      "- i = \u001b[94m0\u001b[0m, loss = \u001b[93m4.55e+00\u001b[0m,\n",
      "Parameter containing:\n",
      "tensor([[-0.3892, -0.0033,  0.5598]], requires_grad=True)\n",
      "- i = \u001b[94m1000\u001b[0m, loss = \u001b[93m5.10e-04\u001b[0m,\n",
      "Parameter containing:\n",
      "tensor([[1.0385, 2.8389, 0.0878]], requires_grad=True)\n",
      "- i = \u001b[94m2000\u001b[0m, loss = \u001b[93m1.25e-04\u001b[0m,\n",
      "Parameter containing:\n",
      "tensor([[1.0191, 2.9917, 0.0940]], requires_grad=True)\n",
      "- i = \u001b[94m3000\u001b[0m, loss = \u001b[93m3.06e-05\u001b[0m,\n",
      "Parameter containing:\n",
      "tensor([[1.0094, 3.0674, 0.0970]], requires_grad=True)\n",
      "- i = \u001b[94m4000\u001b[0m, loss = \u001b[93m7.51e-06\u001b[0m,\n",
      "Parameter containing:\n",
      "tensor([[1.0047, 3.1049, 0.0985]], requires_grad=True)\n",
      "- i = \u001b[94m5000\u001b[0m, loss = \u001b[93m1.84e-06\u001b[0m,\n",
      "Parameter containing:\n",
      "tensor([[1.0023, 3.1234, 0.0993]], requires_grad=True)\n"
     ]
    }
   ],
   "source": [
    "torch.manual_seed(11)\n",
    "lin = nn.Linear(in_features=d, out_features=1)\n",
    "sig = nn.ReLU()\n",
    "neuron = nn.Sequential(lin, sig)\n",
    "\n",
    "# optim = torch.optim.SGD([lin.weight, lin.bias], lr=.1)\n",
    "optim = torch.optim.SGD(neuron.parameters(), lr=.1)\n",
    "\n",
    "for i in range(5001):\n",
    "    optim.zero_grad()               # zeros out lin.weight.grad and lin.bias.grad\n",
    "    loss = sum((y - neuron(x))**2)/n \n",
    "    loss.backward()                 # updates lin.weight.grad and lin.bias.grad\n",
    "    optim.step()                    # updates lin.weight and lin.bias\n",
    "    if i % 1000 == 0: \n",
    "          print(f\"- i = {bcols.OKBLUE}{i}{bcols.ENDC}, loss = {bcols.WARNING}{loss.item():1.2e}{bcols.ENDC},\\n{lin.weight}\")"
   ]
  },
  {
   "cell_type": "code",
   "execution_count": 31,
   "metadata": {},
   "outputs": [
    {
     "name": "stdout",
     "output_type": "stream",
     "text": [
      "Parameter containing:\n",
      "tensor([[1.0023, 3.1234, 0.0993]], requires_grad=True)\n",
      "Parameter containing:\n",
      "tensor([-0.9863], requires_grad=True)\n"
     ]
    }
   ],
   "source": [
    "for param in neuron.parameters():\n",
    "    print(param)"
   ]
  },
  {
   "cell_type": "markdown",
   "metadata": {},
   "source": [
    "## Training a neuron v3\n",
    "Encapsulating the model in a class, by defining a sub-class of `nn.Module`."
   ]
  },
  {
   "cell_type": "code",
   "execution_count": 32,
   "metadata": {},
   "outputs": [
    {
     "name": "stdout",
     "output_type": "stream",
     "text": [
      "Forward pass not implemented!\n"
     ]
    }
   ],
   "source": [
    "class Neuron(nn.Module):\n",
    "    def __init__(self):\n",
    "        super().__init__()\n",
    "        self.simple_neuron = nn.Sequential(\n",
    "            nn.Linear(in_features=d, out_features=1),\n",
    "            nn.ReLU()\n",
    "        )\n",
    "    def forward(self,x):  # This is called when we apply the object like a function \n",
    "        print(\"Forward pass not implemented!\")\n",
    "\n",
    "\n",
    "model = Neuron()\n",
    "model(x)"
   ]
  },
  {
   "cell_type": "code",
   "execution_count": 33,
   "metadata": {},
   "outputs": [
    {
     "data": {
      "text/plain": [
       "tensor([[0.0000],\n",
       "        [0.0000],\n",
       "        [0.0000],\n",
       "        [0.0000],\n",
       "        [0.4946],\n",
       "        [0.0000],\n",
       "        [0.0000],\n",
       "        [0.0000],\n",
       "        [0.0000],\n",
       "        [0.3965]], grad_fn=<ReluBackward0>)"
      ]
     },
     "execution_count": 33,
     "metadata": {},
     "output_type": "execute_result"
    }
   ],
   "source": [
    "torch.manual_seed(11)\n",
    "\n",
    "class Neuron(nn.Module):\n",
    "    def __init__(self):\n",
    "        super().__init__()\n",
    "        self.simple_neuron = nn.Sequential(\n",
    "            nn.Linear(in_features=d, out_features=1),\n",
    "            nn.ReLU()\n",
    "        )\n",
    "    def forward(self,x):\n",
    "        return self.simple_neuron(x)\n",
    "\n",
    "\n",
    "model = Neuron()\n",
    "model(x)"
   ]
  },
  {
   "cell_type": "code",
   "execution_count": 34,
   "metadata": {},
   "outputs": [
    {
     "name": "stdout",
     "output_type": "stream",
     "text": [
      "- i = \u001b[94m0\u001b[0m, loss = \u001b[93m4.55e+00\u001b[0m,\n",
      "Parameter containing:\n",
      "tensor([[1.0023, 3.1234, 0.0993]], requires_grad=True)\n",
      "- i = \u001b[94m1000\u001b[0m, loss = \u001b[93m5.10e-04\u001b[0m,\n",
      "Parameter containing:\n",
      "tensor([[1.0023, 3.1234, 0.0993]], requires_grad=True)\n",
      "- i = \u001b[94m2000\u001b[0m, loss = \u001b[93m1.25e-04\u001b[0m,\n",
      "Parameter containing:\n",
      "tensor([[1.0023, 3.1234, 0.0993]], requires_grad=True)\n",
      "- i = \u001b[94m3000\u001b[0m, loss = \u001b[93m3.06e-05\u001b[0m,\n",
      "Parameter containing:\n",
      "tensor([[1.0023, 3.1234, 0.0993]], requires_grad=True)\n",
      "- i = \u001b[94m4000\u001b[0m, loss = \u001b[93m7.51e-06\u001b[0m,\n",
      "Parameter containing:\n",
      "tensor([[1.0023, 3.1234, 0.0993]], requires_grad=True)\n",
      "- i = \u001b[94m5000\u001b[0m, loss = \u001b[93m1.84e-06\u001b[0m,\n",
      "Parameter containing:\n",
      "tensor([[1.0023, 3.1234, 0.0993]], requires_grad=True)\n"
     ]
    }
   ],
   "source": [
    "optim = torch.optim.SGD(model.parameters(), lr=.1)\n",
    "\n",
    "for i in range(5001):\n",
    "    optim.zero_grad()               # zeros out lin.weight.grad and lin.bias.grad\n",
    "    loss = sum((y - model(x))**2)/n \n",
    "    loss.backward()                 # updates lin.weight.grad and lin.bias.grad\n",
    "    optim.step()                    # updates lin.weight and lin.bias\n",
    "    if i % 1000 == 0: \n",
    "         print(f\"- i = {bcols.OKBLUE}{i}{bcols.ENDC}, loss = {bcols.WARNING}{loss.item():1.2e}{bcols.ENDC},\\n{lin.weight}\")"
   ]
  },
  {
   "cell_type": "markdown",
   "metadata": {},
   "source": [
    "# Putting the optimization/training code into a function"
   ]
  },
  {
   "cell_type": "code",
   "execution_count": 39,
   "metadata": {},
   "outputs": [
    {
     "name": "stdout",
     "output_type": "stream",
     "text": [
      "- i = \u001b[94m0\u001b[0m, loss = \u001b[93m1.90e-02\u001b[0m\n",
      "- i = \u001b[94m20\u001b[0m, loss = \u001b[93m1.54e-02\u001b[0m\n",
      "- i = \u001b[94m40\u001b[0m, loss = \u001b[93m1.27e-02\u001b[0m\n",
      "- i = \u001b[94m60\u001b[0m, loss = \u001b[93m1.05e-02\u001b[0m\n",
      "- i = \u001b[94m80\u001b[0m, loss = \u001b[93m8.72e-03\u001b[0m\n",
      "- i = \u001b[94m99\u001b[0m, loss = \u001b[93m7.33e-03\u001b[0m\n"
     ]
    }
   ],
   "source": [
    "import numpy as np\n",
    "\n",
    "def print_optim_stats(i, loss):\n",
    "    print(f\"- i = {bcols.OKBLUE}{i}{bcols.ENDC}, loss = {bcols.WARNING}{loss.item():1.2e}{bcols.ENDC}\")\n",
    "\n",
    "# optimize a model w.r.t. the MSE loss\n",
    "def train(x, y, model, lr, niter = 100):\n",
    "    optim = torch.optim.SGD(model.parameters(), lr=lr)\n",
    "\n",
    "    loss_record = np.zeros(niter)\n",
    "    n, _ = x.shape\n",
    "    for i in range(niter):\n",
    "        optim.zero_grad()               # zeros out model.parameters()'s grads\n",
    "        loss = sum((y - model(x))**2)/n \n",
    "        loss_record[i] = loss.item()    # record the loss\n",
    "        loss.backward()                 # updates model.parameters()'s grads\n",
    "        optim.step()                    # updates model.parameters()\n",
    "        if i % round(niter / 5) == 0: \n",
    "            print_optim_stats(i, loss)            \n",
    "\n",
    "    print_optim_stats(i, loss)\n",
    "    return loss_record\n",
    "\n",
    "loss_rec = train(x, y, model, 0.1, 100)"
   ]
  },
  {
   "cell_type": "markdown",
   "metadata": {},
   "source": [
    "## Training a neuron v4\n",
    "Using the functional form of ReLU."
   ]
  },
  {
   "cell_type": "code",
   "execution_count": 48,
   "metadata": {},
   "outputs": [
    {
     "data": {
      "text/plain": [
       "[Parameter containing:\n",
       " tensor([[-0.4053, -0.0155,  0.5608]], requires_grad=True),\n",
       " Parameter containing:\n",
       " tensor([-0.3829], requires_grad=True)]"
      ]
     },
     "execution_count": 48,
     "metadata": {},
     "output_type": "execute_result"
    }
   ],
   "source": [
    "import torch.nn as nn\n",
    "import torch.nn.functional as F\n",
    "\n",
    "torch.manual_seed(11)\n",
    "\n",
    "class Neuron(nn.Module):\n",
    "    def __init__(self):\n",
    "        super().__init__()\n",
    "        # self.simple_neuron = nn.Sequential(\n",
    "        #     nn.Linear(in_features=d, out_features=1),\n",
    "        #     nn.ReLU()\n",
    "        # )\n",
    "\n",
    "        self.lin = nn.Linear(in_features=d, out_features=1)\n",
    "\n",
    "    def forward(self,x):\n",
    "        # return self.simple_neuron(x)\n",
    "    \n",
    "        return F.relu(self.lin(x))\n",
    "\n",
    "\n",
    "model = Neuron()\n",
    "# model(x)\n",
    "list(model.parameters())"
   ]
  },
  {
   "cell_type": "code",
   "execution_count": 49,
   "metadata": {},
   "outputs": [
    {
     "name": "stdout",
     "output_type": "stream",
     "text": [
      "<class 'torch.nn.modules.activation.ReLU'>\n",
      "<class 'function'>\n"
     ]
    }
   ],
   "source": [
    "print(type(nn.ReLU()))\n",
    "print(type(F.relu))"
   ]
  },
  {
   "cell_type": "code",
   "execution_count": 50,
   "metadata": {},
   "outputs": [
    {
     "name": "stdout",
     "output_type": "stream",
     "text": [
      "- i = \u001b[94m0\u001b[0m, loss = \u001b[93m4.55e+00\u001b[0m\n",
      "- i = \u001b[94m20\u001b[0m, loss = \u001b[93m4.52e+00\u001b[0m\n",
      "- i = \u001b[94m40\u001b[0m, loss = \u001b[93m4.23e-01\u001b[0m\n",
      "- i = \u001b[94m60\u001b[0m, loss = \u001b[93m7.74e-02\u001b[0m\n",
      "- i = \u001b[94m80\u001b[0m, loss = \u001b[93m3.06e-02\u001b[0m\n",
      "- i = \u001b[94m99\u001b[0m, loss = \u001b[93m1.93e-02\u001b[0m\n"
     ]
    },
    {
     "data": {
      "text/plain": [
       "[<matplotlib.lines.Line2D at 0x7f8dda889c90>]"
      ]
     },
     "execution_count": 50,
     "metadata": {},
     "output_type": "execute_result"
    },
    {
     "data": {
      "image/png": "[encoded data removed]",
      "text/plain": [
       "<Figure size 640x480 with 1 Axes>"
      ]
     },
     "metadata": {},
     "output_type": "display_data"
    }
   ],
   "source": [
    "import matplotlib.pylab as plt\n",
    "\n",
    "loss_rec = train(x, y, model, 0.1, 100)\n",
    "plt.plot(loss_rec)"
   ]
  },
  {
   "cell_type": "code",
   "execution_count": null,
   "metadata": {},
   "outputs": [],
   "source": []
  }
 ],
 "metadata": {
  "interpreter": {
   "hash": "e7370f93d1d0cde622a1f8e1c04877d8463912d04d973331ad4851f04de6915a"
  },
  "kernelspec": {
   "display_name": "Python 3 (ipykernel)",
   "language": "python",
   "name": "python3"
  },
  "language_info": {
   "codemirror_mode": {
    "name": "ipython",
    "version": 3
   },
   "file_extension": ".py",
   "mimetype": "text/x-python",
   "name": "python",
   "nbconvert_exporter": "python",
   "pygments_lexer": "ipython3",
   "version": "3.10.7"
  }
 },
 "nbformat": 4,
 "nbformat_minor": 2
}
